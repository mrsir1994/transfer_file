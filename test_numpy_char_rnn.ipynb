{
 "cells": [
  {
   "cell_type": "code",
   "execution_count": 4,
   "metadata": {},
   "outputs": [
    {
     "name": "stderr",
     "output_type": "stream",
     "text": [
      "The autoreload extension is already loaded. To reload it, use:\n",
      "  %reload_ext autoreload\n",
      "kb_dict loaded!\n",
      "start loading data...\n",
      "velocity done!!\n",
      "<type 'numpy.ndarray'>\n",
      "(50, 512)\n",
      "--------------------\n",
      "<type 'numpy.ndarray'>\n",
      "(1024, 2048)\n",
      "--------------------\n",
      "<type 'numpy.ndarray'>\n",
      "(2048,)\n",
      "--------------------\n",
      "<type 'numpy.ndarray'>\n",
      "(512, 50)\n",
      "--------------------\n",
      "<type 'numpy.ndarray'>\n",
      "(50,)\n",
      "--------------------\n",
      "[(512, 1024), (512, 1), (512, 1024), (512, 1), (512, 1024), (512, 1), (512, 1024), (512, 1), (512, 50), (50,), (50, 512)]\n"
     ]
    }
   ],
   "source": [
    "import pickle\n",
    "from lstm import *\n",
    "from keras import backend as K\n",
    "from util import *\n",
    "import pickle\n",
    "from Visualizer import *\n",
    "from realtime_char_rnn import *\n",
    "%load_ext autoreload\n",
    "%autoreload 2\n",
    "\n",
    "\n",
    "vis = Visualizer() \n",
    "file_dir = './sim_test_data_hover.txt'\n",
    "ds = DataStorer(file_dir,vis,load_preds = 1,dt=1/1000.0*20, timesteps = 50,smooth_data=0,\n",
    "                preds_dir = 'sim_test_data_preds.pkl')\n",
    "\n",
    "\n",
    "a = pickle.load(open('MMMM.pkl','r'))\n",
    "for i in a:\n",
    "    print type(i)\n",
    "    print i.shape\n",
    "    print '-'*20\n",
    "    \n",
    "embed_W = a[0]\n",
    "w = a[1]\n",
    "b = a[2]\n",
    "\n",
    "wv = a[3]\n",
    "bv = a[4]\n",
    "\n",
    "units = 512\n",
    "w_i = w[:, :units].T\n",
    "w_f = w[:, units: units * 2].T\n",
    "w_c = w[:, units * 2: units * 3].T\n",
    "w_o = w[:, units * 3:].T\n",
    "\n",
    "b_i = b[:units].reshape((units,1))\n",
    "b_f = b[units: units * 2].reshape((units,1))\n",
    "b_c = b[units * 2: units * 3].reshape((units,1))\n",
    "b_o = b[units * 3:].reshape((units,1))\n",
    "\n",
    "result = [w_f, b_f, w_i,b_i,w_c,b_c,w_o,b_o,wv,bv,embed_W]\n",
    "\n",
    "print [i.shape for i in result]\n",
    "\n",
    "pickle.dump(result,open('M.pkl','w'))\n",
    "    \n",
    "parameter = Parameters(w_f,w_i,w_c,w_o,b_f,b_i,b_c,b_o,wv,bv)"
   ]
  },
  {
   "cell_type": "code",
   "execution_count": 6,
   "metadata": {},
   "outputs": [
    {
     "name": "stderr",
     "output_type": "stream",
     "text": [
      "(512,)\n"
     ]
    },
    {
     "ename": "ValueError",
     "evalue": "shapes (512,50) and (512,1) not aligned: 50 (dim 1) != 512 (dim 0)",
     "output_type": "error",
     "traceback": [
      "\u001b[0;31m---------------------------------------------------------------------------\u001b[0m",
      "\u001b[0;31mValueError\u001b[0m                                Traceback (most recent call last)",
      "\u001b[0;32m<ipython-input-6-987c23848a82>\u001b[0m in \u001b[0;36m<module>\u001b[0;34m()\u001b[0m\n\u001b[1;32m     13\u001b[0m \u001b[0mdata\u001b[0m \u001b[0;34m=\u001b[0m \u001b[0mnp\u001b[0m\u001b[0;34m.\u001b[0m\u001b[0mdot\u001b[0m\u001b[0;34m(\u001b[0m\u001b[0mdata\u001b[0m\u001b[0;34m,\u001b[0m\u001b[0membed_W\u001b[0m\u001b[0;34m)\u001b[0m\u001b[0;34m\u001b[0m\u001b[0m\n\u001b[1;32m     14\u001b[0m \u001b[0;34m\u001b[0m\u001b[0m\n\u001b[0;32m---> 15\u001b[0;31m \u001b[0mget_logits\u001b[0m\u001b[0;34m(\u001b[0m\u001b[0mdata\u001b[0m\u001b[0;34m,\u001b[0m\u001b[0mparameter\u001b[0m\u001b[0;34m)\u001b[0m\u001b[0;34m\u001b[0m\u001b[0m\n\u001b[0m\u001b[1;32m     16\u001b[0m \u001b[0;34m\u001b[0m\u001b[0m\n\u001b[1;32m     17\u001b[0m \u001b[0;34m\u001b[0m\u001b[0m\n",
      "\u001b[0;32m/Users/jianweizhang/Documents/movement_rnn/realtime_char_rnn.py\u001b[0m in \u001b[0;36mget_logits\u001b[0;34m(data, p)\u001b[0m\n\u001b[1;32m    108\u001b[0m     \u001b[0;32mfor\u001b[0m \u001b[0mi\u001b[0m \u001b[0;32min\u001b[0m \u001b[0mrange\u001b[0m\u001b[0;34m(\u001b[0m\u001b[0mdata\u001b[0m\u001b[0;34m.\u001b[0m\u001b[0mshape\u001b[0m\u001b[0;34m[\u001b[0m\u001b[0;36m0\u001b[0m\u001b[0;34m]\u001b[0m\u001b[0;34m)\u001b[0m\u001b[0;34m:\u001b[0m\u001b[0;34m\u001b[0m\u001b[0m\n\u001b[1;32m    109\u001b[0m         \u001b[0;32mprint\u001b[0m \u001b[0mdata\u001b[0m\u001b[0;34m[\u001b[0m\u001b[0mi\u001b[0m\u001b[0;34m,\u001b[0m\u001b[0;34m:\u001b[0m\u001b[0;34m]\u001b[0m\u001b[0;34m.\u001b[0m\u001b[0mshape\u001b[0m\u001b[0;34m\u001b[0m\u001b[0m\n\u001b[0;32m--> 110\u001b[0;31m         \u001b[0m_\u001b[0m\u001b[0;34m,\u001b[0m \u001b[0m_\u001b[0m\u001b[0;34m,\u001b[0m \u001b[0m_\u001b[0m\u001b[0;34m,\u001b[0m \u001b[0m_\u001b[0m\u001b[0;34m,\u001b[0m \u001b[0mC\u001b[0m\u001b[0;34m,\u001b[0m \u001b[0m_\u001b[0m\u001b[0;34m,\u001b[0m \u001b[0mh\u001b[0m\u001b[0;34m,\u001b[0m \u001b[0m_\u001b[0m\u001b[0;34m,\u001b[0m \u001b[0mp\u001b[0m \u001b[0;34m=\u001b[0m \u001b[0mforward\u001b[0m\u001b[0;34m(\u001b[0m\u001b[0mdata\u001b[0m\u001b[0;34m[\u001b[0m\u001b[0mi\u001b[0m\u001b[0;34m,\u001b[0m\u001b[0;34m:\u001b[0m\u001b[0;34m]\u001b[0m\u001b[0;34m.\u001b[0m\u001b[0mreshape\u001b[0m\u001b[0;34m(\u001b[0m\u001b[0;34m(\u001b[0m\u001b[0mX_size\u001b[0m\u001b[0;34m,\u001b[0m\u001b[0;36m1\u001b[0m\u001b[0;34m)\u001b[0m\u001b[0;34m)\u001b[0m\u001b[0;34m,\u001b[0m \u001b[0mh\u001b[0m\u001b[0;34m,\u001b[0m \u001b[0mC\u001b[0m\u001b[0;34m,\u001b[0m\u001b[0mp\u001b[0m\u001b[0;34m)\u001b[0m\u001b[0;34m\u001b[0m\u001b[0m\n\u001b[0m\u001b[1;32m    111\u001b[0m     \u001b[0;32mreturn\u001b[0m \u001b[0mp\u001b[0m\u001b[0;34m\u001b[0m\u001b[0m\n\u001b[1;32m    112\u001b[0m \u001b[0;34m\u001b[0m\u001b[0m\n",
      "\u001b[0;32m/Users/jianweizhang/Documents/movement_rnn/realtime_char_rnn.py\u001b[0m in \u001b[0;36mforward\u001b[0;34m(x, h_prev, C_prev, p)\u001b[0m\n\u001b[1;32m     77\u001b[0m     \u001b[0mh\u001b[0m \u001b[0;34m=\u001b[0m \u001b[0mo\u001b[0m \u001b[0;34m*\u001b[0m \u001b[0mtanh\u001b[0m\u001b[0;34m(\u001b[0m\u001b[0mC\u001b[0m\u001b[0;34m)\u001b[0m\u001b[0;34m\u001b[0m\u001b[0m\n\u001b[1;32m     78\u001b[0m \u001b[0;34m\u001b[0m\u001b[0m\n\u001b[0;32m---> 79\u001b[0;31m     \u001b[0;32mprint\u001b[0m \u001b[0mnp\u001b[0m\u001b[0;34m.\u001b[0m\u001b[0mdot\u001b[0m\u001b[0;34m(\u001b[0m\u001b[0mp\u001b[0m\u001b[0;34m.\u001b[0m\u001b[0mW_v\u001b[0m\u001b[0;34m.\u001b[0m\u001b[0mv\u001b[0m\u001b[0;34m,\u001b[0m \u001b[0mh\u001b[0m\u001b[0;34m)\u001b[0m\u001b[0;34m.\u001b[0m\u001b[0mshape\u001b[0m\u001b[0;34m\u001b[0m\u001b[0m\n\u001b[0m\u001b[1;32m     80\u001b[0m     \u001b[0;32mprint\u001b[0m \u001b[0mp\u001b[0m\u001b[0;34m.\u001b[0m\u001b[0mb_v\u001b[0m\u001b[0;34m.\u001b[0m\u001b[0mv_shape\u001b[0m\u001b[0;34m\u001b[0m\u001b[0m\n\u001b[1;32m     81\u001b[0m     \u001b[0mv\u001b[0m \u001b[0;34m=\u001b[0m \u001b[0mnp\u001b[0m\u001b[0;34m.\u001b[0m\u001b[0mdot\u001b[0m\u001b[0;34m(\u001b[0m\u001b[0mp\u001b[0m\u001b[0;34m.\u001b[0m\u001b[0mW_v\u001b[0m\u001b[0;34m.\u001b[0m\u001b[0mv\u001b[0m\u001b[0;34m,\u001b[0m \u001b[0mh\u001b[0m\u001b[0;34m)\u001b[0m \u001b[0;34m+\u001b[0m \u001b[0mp\u001b[0m\u001b[0;34m.\u001b[0m\u001b[0mb_v\u001b[0m\u001b[0;34m.\u001b[0m\u001b[0mv\u001b[0m\u001b[0;34m\u001b[0m\u001b[0m\n",
      "\u001b[0;31mValueError\u001b[0m: shapes (512,50) and (512,1) not aligned: 50 (dim 1) != 512 (dim 0)"
     ]
    }
   ],
   "source": [
    "from realtime_char_rnn import *\n",
    "n = 100\n",
    "n_steps = 128\n",
    "logits_dict = ds.data['logits_dict']\n",
    "id_2_word = ds.id_2_word\n",
    "word_2_id = ds.word_to_id\n",
    "# print logits_dict.keys()[n]\n",
    "# print [id_2_word[i] for i in np.argsort(-logits_dict[logits_dict.keys()[n]])]\n",
    "\n",
    "data = np.zeros((n_steps,50))\n",
    "for i,c in enumerate(logits_dict.keys()[n][-n_steps:]):\n",
    "    data[i,word_2_id[c]] = 1\n",
    "data = np.dot(data,embed_W)\n",
    "\n",
    "get_logits(data,parameter)\n",
    "\n",
    "    \n"
   ]
  },
  {
   "cell_type": "code",
   "execution_count": null,
   "metadata": {},
   "outputs": [],
   "source": [
    "[<tf.Variable 'Model/embedding:0' shape=(50, 512) dtype=float32_ref>, \n",
    " <tf.Variable 'Model/RNN/multi_rnn_cell/cell_0/basic_lstm_cell/kernel:0' shape=(1024, 2048) dtype=float32_ref>, \n",
    " <tf.Variable 'Model/RNN/multi_rnn_cell/cell_0/basic_lstm_cell/bias:0' shape=(2048,) dtype=float32_ref>, \n",
    " <tf.Variable 'Model/softmax_w:0' shape=(512, 50) dtype=float32_ref>, \n",
    " <tf.Variable 'Model/softmax_b:0' shape=(50,) dtype=float32_ref>]"
   ]
  }
 ],
 "metadata": {
  "kernelspec": {
   "display_name": "Python 2",
   "language": "python",
   "name": "python2"
  }
 },
 "nbformat": 4,
 "nbformat_minor": 2
}
